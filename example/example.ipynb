{
 "cells": [
  {
   "cell_type": "code",
   "execution_count": null,
   "metadata": {},
   "outputs": [],
   "source": [
    "import pymesh\n",
    "import numpy as np\n",
    "import matplotlib.pyplot as plt"
   ]
  },
  {
   "cell_type": "code",
   "execution_count": null,
   "metadata": {},
   "outputs": [],
   "source": [
    "##########################################\n",
    "############ Rotate Mesh Data ############\n",
    "##########################################\n",
    "\n",
    "wkdir = \"../../Render/\"\n",
    "\n",
    "ey = np.load(wkdir + \"/Ez.npy\")[::2, ::50]\n",
    "\n",
    "m, n = ey.shape[0], ey.shape[1]\n",
    "res = np.zeros([m, n, n])\n",
    "pymesh.rotate(ey, res, ifhalf = False)\n",
    "\n",
    "fig = plt.figure(figsize=(4, 3))\n",
    "plt.contourf(res[:, int(n/2), :].T)\n",
    "cbar = plt.colorbar()"
   ]
  },
  {
   "cell_type": "code",
   "execution_count": null,
   "metadata": {},
   "outputs": [],
   "source": [
    "##########################################\n",
    "############# Save Mesh Data #############\n",
    "##########################################\n",
    "\n",
    "mesh = pymesh.get_iso_surf(res, contours_number = 4, cmap = plt.cm.jet)\n",
    "color = pymesh.interp_color(mesh.iso_vals, pltmap = plt.cm.jet)\n",
    "mesh.export(wkdir + \"test\", \"obj\")"
   ]
  },
  {
   "cell_type": "code",
   "execution_count": null,
   "metadata": {},
   "outputs": [],
   "source": [
    "##########################################\n",
    "############# Load Mesh Data #############\n",
    "##########################################\n",
    "\n",
    "mesh = pymesh.Mesh.load(wkdir + \"test\", \"obj\")"
   ]
  },
  {
   "cell_type": "code",
   "execution_count": null,
   "metadata": {},
   "outputs": [],
   "source": [
    "################ plt example #################\n",
    "\n",
    "surf = mesh.plt_trisurf(cmap = plt.cm.jet)\n",
    "plt.colorbar(surf, orientation = 'horizontal')\n",
    "plt.tight_layout()"
   ]
  }
 ],
 "metadata": {
  "kernelspec": {
   "display_name": "base",
   "language": "python",
   "name": "python3"
  },
  "language_info": {
   "codemirror_mode": {
    "name": "ipython",
    "version": 3
   },
   "file_extension": ".py",
   "mimetype": "text/x-python",
   "name": "python",
   "nbconvert_exporter": "python",
   "pygments_lexer": "ipython3",
   "version": "3.9.12"
  }
 },
 "nbformat": 4,
 "nbformat_minor": 2
}
